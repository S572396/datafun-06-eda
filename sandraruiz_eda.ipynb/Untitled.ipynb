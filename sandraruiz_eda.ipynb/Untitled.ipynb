{
 "cells": [
  {
   "cell_type": "markdown",
   "id": "9bdadc43",
   "metadata": {},
   "source": [
    "## Exploratory Data Analyis of a Diamonds Dataset\n",
    "## By: Sandra Ruiz\n",
    "## February 12,2024\n",
    "\n",
    "## Overview\n",
    "\n",
    "This prjoect will use a Jupyter notebook to further analyze data for the Diamond dataset to produce visualizations and answer data related questions.\n",
    "\n",
    "## The Dataset for Diamonds.csv \n",
    "\n",
    "This large Dataset has various columns of: carat, cut, color, clarity, depth as percentage, table-width of top diamond, price, x-length in mm, y-width, z-depth in mm for  over 50,000 diamonds retrieved from:\n",
    "\n",
    "https://raw.githubusercontent.com/mwaskom/seaborn-data/master/diamonds.csv  \n",
    "\n",
    "Sample of the data:\n",
    "\n",
    "\"carat\",\"cut\",\"color\",\"clarity\",\"depth\",\"table\",\"price\",\"x\",\"y\",\"z\"\n",
    "0.23,\"Ideal\",\"E\",\"SI2\",61.5,55,326,3.95,3.98,2.43"
   ]
  },
  {
   "cell_type": "code",
   "execution_count": 5,
   "id": "ea655b8e",
   "metadata": {},
   "outputs": [],
   "source": [
    "import matplotlib.pyplot as plt\n",
    "import pandas as pd\n",
    "import seaborn as sns\n"
   ]
  },
  {
   "cell_type": "code",
   "execution_count": 7,
   "id": "088b6573",
   "metadata": {},
   "outputs": [
    {
     "name": "stdout",
     "output_type": "stream",
     "text": [
      "   carat      cut color clarity  depth  table  price     x     y     z\n",
      "0   0.23    Ideal     E     SI2   61.5   55.0    326  3.95  3.98  2.43\n",
      "1   0.21  Premium     E     SI1   59.8   61.0    326  3.89  3.84  2.31\n",
      "2   0.23     Good     E     VS1   56.9   65.0    327  4.05  4.07  2.31\n",
      "3   0.29  Premium     I     VS2   62.4   58.0    334  4.20  4.23  2.63\n",
      "4   0.31     Good     J     SI2   63.3   58.0    335  4.34  4.35  2.75\n"
     ]
    }
   ],
   "source": [
    "import seaborn as sns\n",
    "\n",
    "# Load the diamonds dataset into a pandas DataFrame\n",
    "df = sns.load_dataset('diamonds')\n",
    "\n",
    "# Inspect the first rows of the DataFrame\n",
    "print(df.head())"
   ]
  },
  {
   "cell_type": "markdown",
   "id": "f0278d4d",
   "metadata": {},
   "source": [
    "## Examing the Data :"
   ]
  },
  {
   "cell_type": "markdown",
   "id": "7578a8ae",
   "metadata": {},
   "source": [
    "##  1.What is the Data size and Type of Information ?"
   ]
  },
  {
   "cell_type": "code",
   "execution_count": 8,
   "id": "f7ee6d02",
   "metadata": {},
   "outputs": [
    {
     "name": "stdout",
     "output_type": "stream",
     "text": [
      "   carat        cut color clarity  depth  table  price     x     y     z\n",
      "0   0.23      Ideal     E     SI2   61.5   55.0    326  3.95  3.98  2.43\n",
      "1   0.21    Premium     E     SI1   59.8   61.0    326  3.89  3.84  2.31\n",
      "2   0.23       Good     E     VS1   56.9   65.0    327  4.05  4.07  2.31\n",
      "3   0.29    Premium     I     VS2   62.4   58.0    334  4.20  4.23  2.63\n",
      "4   0.31       Good     J     SI2   63.3   58.0    335  4.34  4.35  2.75\n",
      "5   0.24  Very Good     J    VVS2   62.8   57.0    336  3.94  3.96  2.48\n",
      "6   0.24  Very Good     I    VVS1   62.3   57.0    336  3.95  3.98  2.47\n",
      "7   0.26  Very Good     H     SI1   61.9   55.0    337  4.07  4.11  2.53\n",
      "8   0.22       Fair     E     VS2   65.1   61.0    337  3.87  3.78  2.49\n",
      "9   0.23  Very Good     H     VS1   59.4   61.0    338  4.00  4.05  2.39\n",
      "(53940, 10)\n",
      "carat       float64\n",
      "cut        category\n",
      "color      category\n",
      "clarity    category\n",
      "depth       float64\n",
      "table       float64\n",
      "price         int64\n",
      "x           float64\n",
      "y           float64\n",
      "z           float64\n",
      "dtype: object\n"
     ]
    }
   ],
   "source": [
    "print(df.head(10))\n",
    "print(df.shape)\n",
    "print(df.dtypes)\n",
    "\n"
   ]
  },
  {
   "cell_type": "markdown",
   "id": "0339f049",
   "metadata": {},
   "source": [
    "Answer ** From the Initial Data Inspection we now know that dataset includes a total of 10 columns of carat, cut, color,clarity, depth, table, price, and dimenstions in mm for a total of 53,940 sampled Diamonds."
   ]
  },
  {
   "cell_type": "markdown",
   "id": "2e702671",
   "metadata": {},
   "source": [
    "## 2.Next lets look at Statistic Information using the describe function\n"
   ]
  },
  {
   "cell_type": "code",
   "execution_count": 9,
   "id": "1701128c",
   "metadata": {},
   "outputs": [
    {
     "name": "stdout",
     "output_type": "stream",
     "text": [
      "              carat         depth         table         price             x  \\\n",
      "count  53940.000000  53940.000000  53940.000000  53940.000000  53940.000000   \n",
      "mean       0.797940     61.749405     57.457184   3932.799722      5.731157   \n",
      "std        0.474011      1.432621      2.234491   3989.439738      1.121761   \n",
      "min        0.200000     43.000000     43.000000    326.000000      0.000000   \n",
      "25%        0.400000     61.000000     56.000000    950.000000      4.710000   \n",
      "50%        0.700000     61.800000     57.000000   2401.000000      5.700000   \n",
      "75%        1.040000     62.500000     59.000000   5324.250000      6.540000   \n",
      "max        5.010000     79.000000     95.000000  18823.000000     10.740000   \n",
      "\n",
      "                  y             z  \n",
      "count  53940.000000  53940.000000  \n",
      "mean       5.734526      3.538734  \n",
      "std        1.142135      0.705699  \n",
      "min        0.000000      0.000000  \n",
      "25%        4.720000      2.910000  \n",
      "50%        5.710000      3.530000  \n",
      "75%        6.540000      4.040000  \n",
      "max       58.900000     31.800000  \n"
     ]
    }
   ],
   "source": [
    "print (df.describe())"
   ]
  },
  {
   "cell_type": "markdown",
   "id": "2c55bbab",
   "metadata": {},
   "source": [
    "From the Statistics summary provided from the describe funtion above, we are now able to see the mean, standard deviation, minimum, maxium values and qurtiles listed in 25,50, and 75%."
   ]
  },
  {
   "cell_type": "markdown",
   "id": "95e1cbbf",
   "metadata": {},
   "source": [
    "## Lets try to find the Averages of the Diamond Sizes."
   ]
  },
  {
   "cell_type": "code",
   "execution_count": 10,
   "id": "2759e873",
   "metadata": {},
   "outputs": [
    {
     "name": "stdout",
     "output_type": "stream",
     "text": [
      "Average Carat: 0.7979397478680014\n"
     ]
    }
   ],
   "source": [
    "# Calculate the average of the 'carat' column\n",
    "average_carat = df['carat'].mean()\n",
    "\n",
    "# Print the result\n",
    "print(\"Average Carat:\", average_carat)"
   ]
  },
  {
   "cell_type": "markdown",
   "id": "db7fdbbb",
   "metadata": {},
   "source": [
    "Answer** For all the data 53,940 samples of Diamonds the Average carat is 0.79. Almost near the one carat mark."
   ]
  },
  {
   "cell_type": "markdown",
   "id": "30a9209d",
   "metadata": {},
   "source": [
    "### Lets Visualize the Data with a Histogram for the Column named 'carat'"
   ]
  },
  {
   "cell_type": "code",
   "execution_count": 13,
   "id": "f0ad3b41",
   "metadata": {},
   "outputs": [
    {
     "data": {
      "image/png": "[encoded data removed]",
      "text/plain": [
       "<Figure size 1000x600 with 1 Axes>"
      ]
     },
     "metadata": {},
     "output_type": "display_data"
    }
   ],
   "source": [
    "# Create a histogram for the 'carat' column\n",
    "plt.figure(figsize=(10, 6))\n",
    "sns.histplot(df['carat'], bins=30, kde=False, color='blue', edgecolor='black')\n",
    "\n",
    "# Customize the plot\n",
    "plt.title('Histogram of Carat')\n",
    "plt.xlabel('Carat')\n",
    "plt.ylabel('Frequency')\n",
    "\n",
    "# Show the plot\n",
    "plt.show()"
   ]
  },
  {
   "cell_type": "markdown",
   "id": "b81f381f",
   "metadata": {},
   "source": [
    "** Insights: Here the Histogram confirms the aveage carat size of the diamonds data set at 0.79. There is more frequency with the values under 1 carat at over 10,000 occurances. At the higher carat sizes of greater than 1.5 or 2 carats, the frequency is at 3,000 and less. Therefore, in this sample of diamonds there are far more smaller diamonds than the larger carat size."
   ]
  },
  {
   "cell_type": "markdown",
   "id": "51753dfa",
   "metadata": {},
   "source": [
    "## Now of this sample of dimonds, let find how many are considered top quality or \"Ideal\"?"
   ]
  },
  {
   "cell_type": "markdown",
   "id": "d3119eb9",
   "metadata": {},
   "source": []
  }
 ],
 "metadata": {
  "kernelspec": {
   "display_name": "Python 3 (ipykernel)",
   "language": "python",
   "name": "python3"
  },
  "language_info": {
   "codemirror_mode": {
    "name": "ipython",
    "version": 3
   },
   "file_extension": ".py",
   "mimetype": "text/x-python",
   "name": "python",
   "nbconvert_exporter": "python",
   "pygments_lexer": "ipython3",
   "version": "3.12.1"
  }
 },
 "nbformat": 4,
 "nbformat_minor": 5
}
