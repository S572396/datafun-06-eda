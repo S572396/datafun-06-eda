{
 "cells": [
  {
   "cell_type": "markdown",
   "id": "9bdadc43",
   "metadata": {},
   "source": [
    "## Exploratory Data Analyis of a Diamonds Dataset\n",
    "## By: Sandra Ruiz\n",
    "## February 12,2024\n",
    "\n",
    "## Overview\n",
    "\n",
    "This prjoect will use a Jupyter notebook to further analyze data for the Diamond dataset to produce visualizations and answer data related questions.\n",
    "\n",
    "## The Dataset for Diamonds.csv \n",
    "\n",
    "This large Dataset has various columns of: carat, cut, color, clarity, depth as percentage, table-width of top diamond, price, x-length in mm, y-width, z-depth in mm for  over 50,000 diamonds retrieved from:\n",
    "\n",
    "https://raw.githubusercontent.com/mwaskom/seaborn-data/master/diamonds.csv  \n",
    "\n",
    "Sample of the data:\n",
    "\n",
    "\"carat\",\"cut\",\"color\",\"clarity\",\"depth\",\"table\",\"price\",\"x\",\"y\",\"z\"\n",
    "0.23,\"Ideal\",\"E\",\"SI2\",61.5,55,326,3.95,3.98,2.43"
   ]
  },
  {
   "cell_type": "code",
   "execution_count": 5,
   "id": "ea655b8e",
   "metadata": {},
   "outputs": [],
   "source": [
    "import matplotlib.pyplot as plt\n",
    "import pandas as pd\n",
    "import seaborn as sns\n"
   ]
  },
  {
   "cell_type": "code",
   "execution_count": 7,
   "id": "088b6573",
   "metadata": {},
   "outputs": [
    {
     "name": "stdout",
     "output_type": "stream",
     "text": [
      "   carat      cut color clarity  depth  table  price     x     y     z\n",
      "0   0.23    Ideal     E     SI2   61.5   55.0    326  3.95  3.98  2.43\n",
      "1   0.21  Premium     E     SI1   59.8   61.0    326  3.89  3.84  2.31\n",
      "2   0.23     Good     E     VS1   56.9   65.0    327  4.05  4.07  2.31\n",
      "3   0.29  Premium     I     VS2   62.4   58.0    334  4.20  4.23  2.63\n",
      "4   0.31     Good     J     SI2   63.3   58.0    335  4.34  4.35  2.75\n"
     ]
    }
   ],
   "source": [
    "import seaborn as sns\n",
    "\n",
    "# Load the diamonds dataset into a pandas DataFrame\n",
    "df = sns.load_dataset('diamonds')\n",
    "\n",
    "# Inspect the first rows of the DataFrame\n",
    "print(df.head())"
   ]
  }
 ],
 "metadata": {
  "kernelspec": {
   "display_name": "Python 3 (ipykernel)",
   "language": "python",
   "name": "python3"
  },
  "language_info": {
   "codemirror_mode": {
    "name": "ipython",
    "version": 3
   },
   "file_extension": ".py",
   "mimetype": "text/x-python",
   "name": "python",
   "nbconvert_exporter": "python",
   "pygments_lexer": "ipython3",
   "version": "3.12.1"
  }
 },
 "nbformat": 4,
 "nbformat_minor": 5
}
